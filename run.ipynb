{
 "cells": [
  {
   "cell_type": "code",
   "execution_count": 3,
   "metadata": {},
   "outputs": [],
   "source": [
    "import json\n",
    "import argparse\n",
    "from src.coraloader import cora_loader\n",
    "from src.two_layer_gnn import GNN\n",
    "from src.coraloader import encode_label\n",
    "\n",
    "import pandas as pd\n",
    "import numpy as np\n",
    "import networkx as nx\n",
    "import random\n",
    "\n",
    "from sklearn.preprocessing import LabelEncoder\n",
    "from keras.utils import to_categorical\n",
    "\n",
    "from sklearn.preprocessing import LabelEncoder\n",
    "from keras.utils import to_categorical\n",
    "import tensorflow as tf\n",
    "from tensorflow.keras.models import Model\n",
    "from tensorflow.keras.layers import Input, Dropout, Dense\n",
    "from tensorflow.keras import Sequential\n",
    "from tensorflow.keras.optimizers import Adam\n",
    "from tensorflow.keras.callbacks import TensorBoard, EarlyStopping, Callback\n",
    "import tensorflow as tf\n",
    "from tensorflow.keras.regularizers import l2\n",
    "from spektral.layers import GraphConv\n",
    "import pathlib"
   ]
  },
  {
   "cell_type": "code",
   "execution_count": 7,
   "metadata": {},
   "outputs": [
    {
     "data": {
      "text/plain": [
       "\"\\ncora = cora_loader('data/cora.content', 'data/cora.cites')\\nmodel_2 = gnn_nlayer()\\nX, y, A = cora.get_train()\\nmodel_2.fit(X, y, A)\\nmodel_2.model(2)\\nmodel_2.mcompile()\\nmodel_2.train(10)\\n\""
      ]
     },
     "execution_count": 7,
     "metadata": {},
     "output_type": "execute_result"
    }
   ],
   "source": [
    "'''\n",
    "cora = cora_loader('data/cora.content', 'data/cora.cites')\n",
    "model_2 = gnn_nlayer()\n",
    "X, y, A = cora.get_train()\n",
    "model_2.fit(X, y, A)\n",
    "model_2.model(2)\n",
    "model_2.mcompile()\n",
    "model_2.train(10)\n",
    "'''\n",
    "# test area"
   ]
  },
  {
   "cell_type": "code",
   "execution_count": 4,
   "metadata": {},
   "outputs": [],
   "source": [
    "def main():\n",
    "    # Training settings\n",
    "    local_path = str(pathlib.Path().parent.absolute())\n",
    "    local_data = local_path + '/data'\n",
    "    local_output = local_path + '/config/model-output.json'\n",
    "    parser = argparse.ArgumentParser(description='Running model')\n",
    "    parser.add_argument('--model', type=str, default='graph', choices=['graph'],\n",
    "                        help='model to use for training (default: nlayerGNN)')\n",
    "    parser.add_argument('--image_path', type=int, default=None,\n",
    "                        help='draw the graph to the path')\n",
    "    parser.add_argument('--dataset', type=str, default='cora', choices=['cora'],\n",
    "                        help='data set type (default cora and only support cora now)')\n",
    "    parser.add_argument('--cora_path', type=str, default=local_data,\n",
    "                        help='path for the cora dataset')\n",
    "    parser.add_argument('--output_path', type=str, default=local_output,\n",
    "                        help='path for the output json file')\n",
    "    \n",
    "    parser.add_argument('--hidden_neurons', type=int, default=200,\n",
    "                        help='hidden neurons in hidden layer (GNN) (default: 200)')\n",
    "    parser.add_argument('--device', type=str, default='cuda',\n",
    "                        help='Device for trianing the model (dafault: cuda)')\n",
    "    parser.add_argument('--epochs', type=int, default=50,\n",
    "                        help='number of epochs to train (default: 50)')\n",
    "    parser.add_argument('--lr', type=float, default=1e-3,\n",
    "                        help='learning rate (default: 1e-3)')\n",
    "    \n",
    "    args = parser.parse_args()\n",
    "    cora = cora_loader(args.cora_path + '/cora.content', args.cora_path + '/cora.cites', args.image_path)\n",
    "    model = GNN(hidden_neurons=args.hidden_neurons, learning_rate=args.lr, epoch=args.epochs, device=args.device)\n",
    "    X, y, A = cora.get_train()\n",
    "    model.fit(X, y, A)\n",
    "    hist = model.train()\n",
    "    with open(args.output_path, 'w') as f:\n",
    "        json.dump(hist, f)"
   ]
  },
  {
   "cell_type": "code",
   "execution_count": null,
   "metadata": {},
   "outputs": [],
   "source": [
    "if __name__ == '__main__':\n",
    "    main()\n",
    "    # Examples:\n",
    "    # python run.py --model graph --dataset cora"
   ]
  },
  {
   "cell_type": "code",
   "execution_count": null,
   "metadata": {},
   "outputs": [],
   "source": []
  }
 ],
 "metadata": {
  "kernelspec": {
   "display_name": "Python 3",
   "language": "python",
   "name": "python3"
  },
  "language_info": {
   "codemirror_mode": {
    "name": "ipython",
    "version": 3
   },
   "file_extension": ".py",
   "mimetype": "text/x-python",
   "name": "python",
   "nbconvert_exporter": "python",
   "pygments_lexer": "ipython3",
   "version": "3.7.6"
  }
 },
 "nbformat": 4,
 "nbformat_minor": 4
}
